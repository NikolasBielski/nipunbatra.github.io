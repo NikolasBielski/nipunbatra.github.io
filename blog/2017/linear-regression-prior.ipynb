{
 "cells": [
  {
   "cell_type": "markdown",
   "metadata": {},
   "source": [
    "# Linear regression with prior"
   ]
  },
  {
   "cell_type": "markdown",
   "metadata": {},
   "source": [
    "Let's say we have a prior on the linear model, i.e. we start with a known W (W_prior) and b (b_prior). Further, we say that the learnt function can be such that:\n",
    "\n",
    "$$W = \\alpha \\times W_{prior}$$\n",
    "$$b = \\beta + b_{prior}$$\n",
    "\n",
    "Our task reduces to learn $\\alpha$ and $\\beta$. This can be solved as we would usually do using Gradient descent, the only difference being that we will compute the gradient wrt $\\alpha$ and $\\beta$."
   ]
  },
  {
   "cell_type": "code",
   "execution_count": 1,
   "metadata": {
    "collapsed": true
   },
   "outputs": [],
   "source": [
    "import autograd.numpy as np\n",
    "import matplotlib.pyplot as plt\n",
    "%matplotlib inline"
   ]
  },
  {
   "cell_type": "markdown",
   "metadata": {},
   "source": [
    "### True model  \n",
    "\n",
    "$Y = 10 X + 6$"
   ]
  },
  {
   "cell_type": "code",
   "execution_count": 2,
   "metadata": {},
   "outputs": [],
   "source": [
    "np.random.seed(0)\n",
    "n_samples = 50\n",
    "X = np.linspace(1, 50, n_samples)\n",
    "Y = 10*X + 6 + 10*np.random.randn(n_samples)"
   ]
  },
  {
   "cell_type": "code",
   "execution_count": 3,
   "metadata": {},
   "outputs": [
    {
     "data": {
      "text/plain": [
       "<matplotlib.text.Text at 0x105db2110>"
      ]
     },
     "execution_count": 3,
     "metadata": {},
     "output_type": "execute_result"
    },
    {
     "data": {
      "image/png": "[encoded data removed]",
      "text/plain": [
       "<matplotlib.figure.Figure at 0x10477ab50>"
      ]
     },
     "metadata": {},
     "output_type": "display_data"
    }
   ],
   "source": [
    "plt.plot(X, Y, 'k.')\n",
    "plt.xlabel(\"X\")\n",
    "plt.ylabel(\"Y\")"
   ]
  },
  {
   "cell_type": "markdown",
   "metadata": {},
   "source": [
    "### Defining priors (bad ones!)"
   ]
  },
  {
   "cell_type": "code",
   "execution_count": 4,
   "metadata": {
    "collapsed": true
   },
   "outputs": [],
   "source": [
    "w_prior = -2\n",
    "b_prior = 2"
   ]
  },
  {
   "cell_type": "markdown",
   "metadata": {},
   "source": [
    "### Defining the cost function in terms of alpha and beta"
   ]
  },
  {
   "cell_type": "code",
   "execution_count": 5,
   "metadata": {
    "collapsed": true
   },
   "outputs": [],
   "source": [
    "def cost(alpha, beta):\n",
    "    pred = np.dot(X, alpha*w_prior) + b_prior + beta\n",
    "    return np.sqrt(((pred - Y) ** 2).mean(axis=None))\n",
    "\n",
    "from autograd import grad, multigrad\n",
    "grad_cost= multigrad(cost, argnums=[0, 1])"
   ]
  },
  {
   "cell_type": "markdown",
   "metadata": {},
   "source": [
    "### Gradient descent"
   ]
  },
  {
   "cell_type": "code",
   "execution_count": 6,
   "metadata": {},
   "outputs": [
    {
     "name": "stdout",
     "output_type": "stream",
     "text": [
      "********************\n",
      "0\n",
      "********************\n",
      "239.72247555 1.90798852161 2.3877840568\n",
      "********************\n",
      "200\n",
      "********************\n",
      "12.0792199541 10.0763477733 2.48338003162\n",
      "********************\n",
      "400\n",
      "********************\n",
      "12.0671190561 10.0748865792 2.53257009392\n",
      "********************\n",
      "600\n",
      "********************\n",
      "12.0550910217 10.0734297908 2.58161183822\n",
      "********************\n",
      "800\n",
      "********************\n",
      "12.0431356284 10.0719774081 2.63050526935\n",
      "********************\n",
      "1000\n",
      "********************\n",
      "12.0312526521 10.0705294308 2.67925039569\n"
     ]
    }
   ],
   "source": [
    "alpha = np.random.randn()\n",
    "beta = np.random.randn()\n",
    "lr = 0.001\n",
    "for i in range(1001):\n",
    "    \n",
    "    del_alpha, del_beta = grad_cost(alpha, beta)\n",
    "    alpha = alpha - del_alpha*lr\n",
    "    beta = beta - del_beta*lr\n",
    "    if i%200==0:\n",
    "        print \"*\"*20\n",
    "        print i\n",
    "        print \"*\"*20\n",
    "    \n",
    "        print cost(alpha, beta), alpha*w_prior, beta+b_prior"
   ]
  },
  {
   "cell_type": "markdown",
   "metadata": {},
   "source": [
    "We are able to learn a reasonably accurate W=10.07 and b=2.7. "
   ]
  }
 ],
 "metadata": {
  "kernelspec": {
   "display_name": "Python 2",
   "language": "python",
   "name": "python2"
  },
  "language_info": {
   "codemirror_mode": {
    "name": "ipython",
    "version": 2
   },
   "file_extension": ".py",
   "mimetype": "text/x-python",
   "name": "python",
   "nbconvert_exporter": "python",
   "pygments_lexer": "ipython2",
   "version": "2.7.11"
  }
 },
 "nbformat": 4,
 "nbformat_minor": 1
}
