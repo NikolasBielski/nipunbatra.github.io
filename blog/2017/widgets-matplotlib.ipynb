{
 "cells": [
  {
   "cell_type": "markdown",
   "metadata": {},
   "source": [
    "# Data exploration using widgets in Matplotlib"
   ]
  },
  {
   "cell_type": "markdown",
   "metadata": {},
   "source": [
    "Imagine that you have to do data cleaning on 10s or 100s of sample points (akin to a row in a 2d matrix). For the purposes of data cleaning, you'd also need to zoom/pan at the data correpsonding to each sample point. Would you create 100s of static plots? We lose the zoom/pan ability there. How about we write a simple function and ``manually`` change the argument to reflect the sample #. \n",
    "\n",
    "In this post, I'll be looking at a simple Matplotlib widget to sift through the samples and retain the ability to pan and zoom. This post is heavily inspired by [Jake Vanderplas'](http://jakevdp.github.io/) [PyData 2013 Matplotlib tutorial](https://vimeo.com/63260224). I would be creating 15 timeseries having recorded daily for an year for illustration purposes."
   ]
  },
  {
   "cell_type": "markdown",
   "metadata": {},
   "source": [
    "### Setting the backend to TK. \n",
    "\n",
    "For some reasons, it works better than the default OSX one."
   ]
  },
  {
   "cell_type": "code",
   "execution_count": 1,
   "metadata": {},
   "outputs": [],
   "source": [
    "%matplotlib tk"
   ]
  },
  {
   "cell_type": "markdown",
   "metadata": {},
   "source": [
    "### Customary imports"
   ]
  },
  {
   "cell_type": "code",
   "execution_count": 2,
   "metadata": {
    "collapsed": true
   },
   "outputs": [],
   "source": [
    "import matplotlib.pyplot as plt\n",
    "import numpy as np\n",
    "import pandas as pd\n",
    "import sys"
   ]
  },
  {
   "cell_type": "markdown",
   "metadata": {},
   "source": [
    "### Creating the data"
   ]
  },
  {
   "cell_type": "code",
   "execution_count": 3,
   "metadata": {},
   "outputs": [],
   "source": [
    "# Fixing the seed for reproducibility\n",
    "np.random.seed(0)\n",
    "df = pd.DataFrame(np.random.randn(365, 15), index=pd.DatetimeIndex(start='2017',freq='D', periods=365))"
   ]
  },
  {
   "cell_type": "code",
   "execution_count": 4,
   "metadata": {},
   "outputs": [
    {
     "data": {
      "text/html": [
       "<div>\n",
       "<table border=\"1\" class=\"dataframe\">\n",
       "  <thead>\n",
       "    <tr style=\"text-align: right;\">\n",
       "      <th></th>\n",
       "      <th>0</th>\n",
       "      <th>1</th>\n",
       "      <th>2</th>\n",
       "      <th>3</th>\n",
       "      <th>4</th>\n",
       "      <th>5</th>\n",
       "      <th>6</th>\n",
       "      <th>7</th>\n",
       "      <th>8</th>\n",
       "      <th>9</th>\n",
       "      <th>10</th>\n",
       "      <th>11</th>\n",
       "      <th>12</th>\n",
       "      <th>13</th>\n",
       "      <th>14</th>\n",
       "    </tr>\n",
       "  </thead>\n",
       "  <tbody>\n",
       "    <tr>\n",
       "      <th>2017-01-01</th>\n",
       "      <td>1.764052</td>\n",
       "      <td>0.400157</td>\n",
       "      <td>0.978738</td>\n",
       "      <td>2.240893</td>\n",
       "      <td>1.867558</td>\n",
       "      <td>-0.977278</td>\n",
       "      <td>0.950088</td>\n",
       "      <td>-0.151357</td>\n",
       "      <td>-0.103219</td>\n",
       "      <td>0.410599</td>\n",
       "      <td>0.144044</td>\n",
       "      <td>1.454274</td>\n",
       "      <td>0.761038</td>\n",
       "      <td>0.121675</td>\n",
       "      <td>0.443863</td>\n",
       "    </tr>\n",
       "    <tr>\n",
       "      <th>2017-01-02</th>\n",
       "      <td>0.333674</td>\n",
       "      <td>1.494079</td>\n",
       "      <td>-0.205158</td>\n",
       "      <td>0.313068</td>\n",
       "      <td>-0.854096</td>\n",
       "      <td>-2.552990</td>\n",
       "      <td>0.653619</td>\n",
       "      <td>0.864436</td>\n",
       "      <td>-0.742165</td>\n",
       "      <td>2.269755</td>\n",
       "      <td>-1.454366</td>\n",
       "      <td>0.045759</td>\n",
       "      <td>-0.187184</td>\n",
       "      <td>1.532779</td>\n",
       "      <td>1.469359</td>\n",
       "    </tr>\n",
       "    <tr>\n",
       "      <th>2017-01-03</th>\n",
       "      <td>0.154947</td>\n",
       "      <td>0.378163</td>\n",
       "      <td>-0.887786</td>\n",
       "      <td>-1.980796</td>\n",
       "      <td>-0.347912</td>\n",
       "      <td>0.156349</td>\n",
       "      <td>1.230291</td>\n",
       "      <td>1.202380</td>\n",
       "      <td>-0.387327</td>\n",
       "      <td>-0.302303</td>\n",
       "      <td>-1.048553</td>\n",
       "      <td>-1.420018</td>\n",
       "      <td>-1.706270</td>\n",
       "      <td>1.950775</td>\n",
       "      <td>-0.509652</td>\n",
       "    </tr>\n",
       "    <tr>\n",
       "      <th>2017-01-04</th>\n",
       "      <td>-0.438074</td>\n",
       "      <td>-1.252795</td>\n",
       "      <td>0.777490</td>\n",
       "      <td>-1.613898</td>\n",
       "      <td>-0.212740</td>\n",
       "      <td>-0.895467</td>\n",
       "      <td>0.386902</td>\n",
       "      <td>-0.510805</td>\n",
       "      <td>-1.180632</td>\n",
       "      <td>-0.028182</td>\n",
       "      <td>0.428332</td>\n",
       "      <td>0.066517</td>\n",
       "      <td>0.302472</td>\n",
       "      <td>-0.634322</td>\n",
       "      <td>-0.362741</td>\n",
       "    </tr>\n",
       "    <tr>\n",
       "      <th>2017-01-05</th>\n",
       "      <td>-0.672460</td>\n",
       "      <td>-0.359553</td>\n",
       "      <td>-0.813146</td>\n",
       "      <td>-1.726283</td>\n",
       "      <td>0.177426</td>\n",
       "      <td>-0.401781</td>\n",
       "      <td>-1.630198</td>\n",
       "      <td>0.462782</td>\n",
       "      <td>-0.907298</td>\n",
       "      <td>0.051945</td>\n",
       "      <td>0.729091</td>\n",
       "      <td>0.128983</td>\n",
       "      <td>1.139401</td>\n",
       "      <td>-1.234826</td>\n",
       "      <td>0.402342</td>\n",
       "    </tr>\n",
       "  </tbody>\n",
       "</table>\n",
       "</div>"
      ],
      "text/plain": [
       "                  0         1         2         3         4         5   \\\n",
       "2017-01-01  1.764052  0.400157  0.978738  2.240893  1.867558 -0.977278   \n",
       "2017-01-02  0.333674  1.494079 -0.205158  0.313068 -0.854096 -2.552990   \n",
       "2017-01-03  0.154947  0.378163 -0.887786 -1.980796 -0.347912  0.156349   \n",
       "2017-01-04 -0.438074 -1.252795  0.777490 -1.613898 -0.212740 -0.895467   \n",
       "2017-01-05 -0.672460 -0.359553 -0.813146 -1.726283  0.177426 -0.401781   \n",
       "\n",
       "                  6         7         8         9         10        11  \\\n",
       "2017-01-01  0.950088 -0.151357 -0.103219  0.410599  0.144044  1.454274   \n",
       "2017-01-02  0.653619  0.864436 -0.742165  2.269755 -1.454366  0.045759   \n",
       "2017-01-03  1.230291  1.202380 -0.387327 -0.302303 -1.048553 -1.420018   \n",
       "2017-01-04  0.386902 -0.510805 -1.180632 -0.028182  0.428332  0.066517   \n",
       "2017-01-05 -1.630198  0.462782 -0.907298  0.051945  0.729091  0.128983   \n",
       "\n",
       "                  12        13        14  \n",
       "2017-01-01  0.761038  0.121675  0.443863  \n",
       "2017-01-02 -0.187184  1.532779  1.469359  \n",
       "2017-01-03 -1.706270  1.950775 -0.509652  \n",
       "2017-01-04  0.302472 -0.634322 -0.362741  \n",
       "2017-01-05  1.139401 -1.234826  0.402342  "
      ]
     },
     "execution_count": 4,
     "metadata": {},
     "output_type": "execute_result"
    }
   ],
   "source": [
    "df.head()"
   ]
  },
  {
   "cell_type": "code",
   "execution_count": 5,
   "metadata": {},
   "outputs": [
    {
     "data": {
      "text/plain": [
       "<matplotlib.axes._subplots.AxesSubplot at 0x10afcc850>"
      ]
     },
     "execution_count": 5,
     "metadata": {},
     "output_type": "execute_result"
    }
   ],
   "source": [
    "fig, ax  = plt.subplots()\n",
    "df.plot(ax=ax)"
   ]
  },
  {
   "cell_type": "markdown",
   "metadata": {},
   "source": [
    "Notice, that since I used `%matplotlib TK` backend, I don't  see the plot embedded in the notebook. Thus I'll save the current figure as an image and then link it here."
   ]
  },
  {
   "cell_type": "code",
   "execution_count": 6,
   "metadata": {},
   "outputs": [],
   "source": [
    "plt.savefig(\"all_data.png\")"
   ]
  },
  {
   "cell_type": "markdown",
   "metadata": {},
   "source": [
    "![](all_data.png)"
   ]
  },
  {
   "cell_type": "markdown",
   "metadata": {},
   "source": [
    "This sure does not look pretty. "
   ]
  },
  {
   "cell_type": "markdown",
   "metadata": {},
   "source": [
    "### Proposed solution"
   ]
  },
  {
   "cell_type": "markdown",
   "metadata": {},
   "source": [
    "![](mpl-widget.gif)"
   ]
  },
  {
   "cell_type": "markdown",
   "metadata": {},
   "source": [
    "Great. It seems to do the intended job. Let us now look at the individual pieces and how we can tie them up."
   ]
  },
  {
   "cell_type": "markdown",
   "metadata": {},
   "source": [
    "### Creating the initial frame\n",
    "\n",
    "In the first frame we would like to plot the data for the first sample.\n",
    "```python\n",
    "fig, ax = plt.subplots()\n",
    "df[0].plot(ax=ax, title=\"Sample number: 0\")\n",
    "```"
   ]
  },
  {
   "cell_type": "markdown",
   "metadata": {},
   "source": [
    "### Creating the buttons at the bottom\n",
    "\n",
    "First, we'd want to make space for the button at the bottom and place them there. We can do this as follows:\n",
    "\n",
    "```python\n",
    "from matplotlib.widgets import Button\n",
    "\n",
    "fig.subplots_adjust(bottom=0.2)\n",
    "\n",
    "axprev = plt.axes([0.7, 0.05, 0.1, 0.075])\n",
    "axnext = plt.axes([0.81, 0.05, 0.1, 0.075])\n",
    "\n",
    "bnext = Button(axnext, '>')\n",
    "bprev = Button(axprev, '<')\n",
    "```"
   ]
  },
  {
   "cell_type": "markdown",
   "metadata": {},
   "source": [
    "### Linking the buttons to functions\n",
    "\n",
    "We'd next want to call some function each time either of the two buttons are pressed. We would also need a notion of currently selected data point. The idea would be that each time, `>` is pressed, we advance the currently selected point and plot correspondingly.\n",
    "\n",
    "\n",
    "We'd have to define `next() and prev()` where we increment and decrement the selected data point.\n",
    "\n",
    "```python\n",
    "\n",
    "class Index:\n",
    "    data = df\n",
    "    selected = 0\n",
    "    \n",
    "    def next(self, event):\n",
    "        self.selected += 1\n",
    "        ax.cla()\n",
    "        df[self.selected].plot(ax=ax)\n",
    "        ax.set_title(\"Sample number: %d\" %self.selected)\n",
    "\n",
    "    def prev(self, event):\n",
    "        self.selected -= 1\n",
    "        ax.cla()\n",
    "        df[self.selected].plot(ax=ax)\n",
    "        ax.set_title(\"Sample number: %d\" %self.selected)\n",
    "```\n",
    "\n",
    "Here, `ax.cla()` clears the data for the current data point before drawing for the next one. `df[self.selected].plot(ax=ax)` plots for the newly selected data. `ax.set_title(\"Sample number: %d\" %self.selected)` would change the title to reflect the currently used data point.\n",
    "\n",
    "We can link to callback as follows: \n",
    "\n",
    "```python\n",
    "callback = Index()\n",
    "\n",
    "bnext.on_clicked(callback.next)\n",
    "bprev.on_clicked(callback.prev)\n",
    "```\n"
   ]
  },
  {
   "cell_type": "markdown",
   "metadata": {},
   "source": [
    "### Ensuring we do not select home out of range\n",
    "\n",
    "If you notice, we simply incremented and decremented the selected data point without considering going beyond (0, number of data points). So, we need to change the call back functions to check that we do not go beyond the range. This would require the following changes to `next()` with the changes to `prev()` being similar.\n",
    "\n",
    "```python\n",
    "data_min = 0\n",
    "data_max = data.shape[1]-1\n",
    "selected = 0\n",
    "def next(self, event):\n",
    "    if self.selected >=self.data_max:\n",
    "        self.selected = self.data_max\n",
    "        ax.set_title('Last sample reached. Cannot go forwards')\n",
    "    else:\n",
    "        self.selected += 1\n",
    "        ax.cla()\n",
    "        df[self.selected].plot(ax=ax)\n",
    "        ax.set_title(\"Sample number: %d\" %self.selected)\n",
    " ```"
   ]
  },
  {
   "cell_type": "markdown",
   "metadata": {},
   "source": [
    "There you go. This was fairly simple and fun to do, and yet can be very helpful! Did you like it, have suggestions, feel free to comment!"
   ]
  },
  {
   "cell_type": "markdown",
   "metadata": {},
   "source": [
    "### Complete code"
   ]
  },
  {
   "cell_type": "code",
   "execution_count": 7,
   "metadata": {},
   "outputs": [
    {
     "data": {
      "text/plain": [
       "0"
      ]
     },
     "execution_count": 7,
     "metadata": {},
     "output_type": "execute_result"
    }
   ],
   "source": [
    "from matplotlib.widgets import Button\n",
    "\n",
    "fig, ax = plt.subplots()\n",
    "fig.subplots_adjust(bottom=0.2)\n",
    "\n",
    "df[0].plot(ax=ax, title=\"Sample number: 0\")\n",
    "\n",
    "class Index:\n",
    "    data = df\n",
    "    data_min = 0\n",
    "    data_max = data.shape[1]-1\n",
    "    selected = 0\n",
    "    def next(self, event):\n",
    "        if self.selected >=self.data_max:\n",
    "            self.selected = self.data_max\n",
    "            ax.set_title('Last sample reached. Cannot go forwards')\n",
    "        else:\n",
    "            self.selected += 1\n",
    "            ax.cla()\n",
    "            df[self.selected].plot(ax=ax)\n",
    "            ax.set_title(\"Sample number: %d\" %self.selected)\n",
    "\n",
    "    def prev(self, event):\n",
    "        if self.selected <=self.data_min:\n",
    "            self.selected = 0\n",
    "            ax.set_title('First sample reached. Cannot go backwards')\n",
    "        else:\n",
    "            self.selected -= 1\n",
    "            ax.cla()\n",
    "            df[self.selected].plot(ax=ax)\n",
    "            ax.set_title(\"Sample number: %d\" %self.selected)\n",
    "        \n",
    "\n",
    "callback = Index()\n",
    "axprev = plt.axes([0.7, 0.05, 0.1, 0.075])\n",
    "axnext = plt.axes([0.81, 0.05, 0.1, 0.075])\n",
    "\n",
    "bnext = Button(axnext, '>')\n",
    "bnext.on_clicked(callback.next)\n",
    "\n",
    "bprev = Button(axprev, '<')\n",
    "bprev.on_clicked(callback.prev)"
   ]
  }
 ],
 "metadata": {
  "kernelspec": {
   "display_name": "Python 2",
   "language": "python",
   "name": "python2"
  },
  "language_info": {
   "codemirror_mode": {
    "name": "ipython",
    "version": 2
   },
   "file_extension": ".py",
   "mimetype": "text/x-python",
   "name": "python",
   "nbconvert_exporter": "python",
   "pygments_lexer": "ipython2",
   "version": "2.7.11"
  }
 },
 "nbformat": 4,
 "nbformat_minor": 2
}
