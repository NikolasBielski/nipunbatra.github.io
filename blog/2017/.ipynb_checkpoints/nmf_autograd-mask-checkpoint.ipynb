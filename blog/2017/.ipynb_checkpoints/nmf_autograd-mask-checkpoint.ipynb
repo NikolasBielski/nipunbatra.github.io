{
 "cells": [
  {
   "cell_type": "markdown",
   "metadata": {
    "collapsed": true
   },
   "source": [
    "Non-negative matrix factorization using Autograd"
   ]
  },
  {
   "cell_type": "code",
   "execution_count": 2,
   "metadata": {
    "collapsed": true
   },
   "outputs": [],
   "source": [
    "import autograd.numpy as np\n",
    "import pandas as pd\n",
    "import matplotlib.pyplot as plt"
   ]
  },
  {
   "cell_type": "code",
   "execution_count": 36,
   "metadata": {
    "collapsed": true
   },
   "outputs": [],
   "source": [
    "A = np.array([[3, 4, 5, 2],\n",
    "                   [4, 4, 3, 3],\n",
    "                   [5, 5, 4, 3]], dtype=np.float32).T"
   ]
  },
  {
   "cell_type": "code",
   "execution_count": 37,
   "metadata": {
    "collapsed": false
   },
   "outputs": [],
   "source": [
    "A[0, 0] = np.NAN"
   ]
  },
  {
   "cell_type": "code",
   "execution_count": 38,
   "metadata": {
    "collapsed": false
   },
   "outputs": [
    {
     "data": {
      "text/plain": [
       "array([[ nan,   4.,   5.],\n",
       "       [  4.,   4.,   5.],\n",
       "       [  5.,   3.,   4.],\n",
       "       [  2.,   3.,   3.]], dtype=float32)"
      ]
     },
     "execution_count": 38,
     "metadata": {},
     "output_type": "execute_result"
    }
   ],
   "source": [
    "A"
   ]
  },
  {
   "cell_type": "code",
   "execution_count": 39,
   "metadata": {
    "collapsed": false
   },
   "outputs": [
    {
     "data": {
      "text/plain": [
       "array([[False,  True,  True],\n",
       "       [ True,  True,  True],\n",
       "       [ True,  True,  True],\n",
       "       [ True,  True,  True]], dtype=bool)"
      ]
     },
     "execution_count": 39,
     "metadata": {},
     "output_type": "execute_result"
    }
   ],
   "source": [
    "~np.isnan(A)"
   ]
  },
  {
   "cell_type": "code",
   "execution_count": 63,
   "metadata": {
    "collapsed": true
   },
   "outputs": [],
   "source": [
    "shape = A.shape\n",
    "rank = 1"
   ]
  },
  {
   "cell_type": "code",
   "execution_count": 64,
   "metadata": {
    "collapsed": true
   },
   "outputs": [],
   "source": [
    "def cost(W, H):\n",
    "    pred = np.dot(W, H)\n",
    "    mask = ~np.isnan(A)\n",
    "    return np.sqrt(((pred - A)[mask].flatten() ** 2).mean(axis=None))"
   ]
  },
  {
   "cell_type": "code",
   "execution_count": 72,
   "metadata": {
    "collapsed": true
   },
   "outputs": [],
   "source": [
    "def cost2(W, H):\n",
    "    pred = np.dot(W, H)\n",
    "    mask = ~np.isnan(A)\n",
    "    error = pred[mask]-A[mask]\n",
    "    rel_error = np.divide(error, A[mask])\n",
    "    return np.sqrt((rel_error ** 2).mean(axis=None))\n",
    "    #return np.sqrt(((pred - A)[mask].flatten() ** 2).mean(axis=None))"
   ]
  },
  {
   "cell_type": "code",
   "execution_count": 65,
   "metadata": {
    "collapsed": true
   },
   "outputs": [],
   "source": [
    "from autograd import grad, multigrad"
   ]
  },
  {
   "cell_type": "code",
   "execution_count": 73,
   "metadata": {
    "collapsed": false
   },
   "outputs": [],
   "source": [
    "grad_cost= multigrad(cost2, argnums=[0,1])"
   ]
  },
  {
   "cell_type": "code",
   "execution_count": 74,
   "metadata": {
    "collapsed": false
   },
   "outputs": [
    {
     "name": "stdout",
     "output_type": "stream",
     "text": [
      "********************\n",
      "0\n",
      "********************\n",
      "3.32727707898\n",
      "********************\n",
      "100\n",
      "********************\n",
      "3.22632772805\n",
      "********************\n",
      "200\n",
      "********************\n",
      "3.11094564137\n",
      "********************\n",
      "300\n",
      "********************\n",
      "2.97905791549\n",
      "********************\n",
      "400\n",
      "********************\n",
      "2.82854594871\n",
      "********************\n",
      "500\n",
      "********************\n",
      "2.65742336158\n",
      "********************\n",
      "600\n",
      "********************\n",
      "2.46415631615\n",
      "********************\n",
      "700\n",
      "********************\n",
      "2.24820904524\n",
      "********************\n",
      "800\n",
      "********************\n",
      "2.01092047102\n",
      "********************\n",
      "900\n",
      "********************\n",
      "1.75678984891\n",
      "********************\n",
      "1000\n",
      "********************\n",
      "1.49503435268\n",
      "********************\n",
      "1100\n",
      "********************\n",
      "1.24065114074\n",
      "********************\n",
      "1200\n",
      "********************\n",
      "1.01326337212\n",
      "********************\n",
      "1300\n",
      "********************\n",
      "0.831971191549\n",
      "********************\n",
      "1400\n",
      "********************\n",
      "0.706658920068\n",
      "********************\n",
      "1500\n",
      "********************\n",
      "0.631620749631\n",
      "********************\n",
      "1600\n",
      "********************\n",
      "0.590775765604\n",
      "********************\n",
      "1700\n",
      "********************\n",
      "0.569152840225\n",
      "********************\n",
      "1800\n",
      "********************\n",
      "0.557532968836\n",
      "********************\n",
      "1900\n",
      "********************\n",
      "0.551124309343\n",
      "********************\n",
      "2000\n",
      "********************\n",
      "0.547520977927\n",
      "********************\n",
      "2100\n",
      "********************\n",
      "0.545482227657\n",
      "********************\n",
      "2200\n",
      "********************\n",
      "0.544339098283\n",
      "********************\n",
      "2300\n",
      "********************\n",
      "0.543715852902\n",
      "********************\n",
      "2400\n",
      "********************\n",
      "0.543395036699\n",
      "********************\n",
      "2500\n",
      "********************\n",
      "0.543248480731\n",
      "********************\n",
      "2600\n",
      "********************\n",
      "0.543200032327\n",
      "********************\n",
      "2700\n",
      "********************\n",
      "0.543204482262\n",
      "********************\n",
      "2800\n",
      "********************\n",
      "0.543235242084\n",
      "********************\n",
      "2900\n",
      "********************\n",
      "0.543276973446\n",
      "********************\n",
      "3000\n",
      "********************\n",
      "0.543321118328\n",
      "********************\n",
      "3100\n",
      "********************\n",
      "0.543363169547\n",
      "********************\n",
      "3200\n",
      "********************\n",
      "0.543401001404\n",
      "********************\n",
      "3300\n",
      "********************\n",
      "0.543433851933\n",
      "********************\n",
      "3400\n",
      "********************\n",
      "0.543461707282\n",
      "********************\n",
      "3500\n",
      "********************\n",
      "0.543484934324\n",
      "********************\n",
      "3600\n",
      "********************\n",
      "0.543504065967\n",
      "********************\n",
      "3700\n",
      "********************\n",
      "0.543519679757\n",
      "********************\n",
      "3800\n",
      "********************\n",
      "0.543532332838\n",
      "********************\n",
      "3900\n",
      "********************\n",
      "0.543542530374\n",
      "********************\n",
      "4000\n",
      "********************\n",
      "0.543550713344\n",
      "********************\n",
      "4100\n",
      "********************\n",
      "0.543557257106\n",
      "********************\n",
      "4200\n",
      "********************\n",
      "0.543562475548\n",
      "********************\n",
      "4300\n",
      "********************\n",
      "0.543566627787\n",
      "********************\n",
      "4400\n",
      "********************\n",
      "0.543569925664\n",
      "********************\n",
      "4500\n",
      "********************\n",
      "0.54357254109\n",
      "********************\n",
      "4600\n",
      "********************\n",
      "0.543574612773\n",
      "********************\n",
      "4700\n",
      "********************\n",
      "0.543576252117\n",
      "********************\n",
      "4800\n",
      "********************\n",
      "0.543577548283\n",
      "********************\n",
      "4900\n",
      "********************\n",
      "0.543578572414\n"
     ]
    }
   ],
   "source": [
    "H =  np.abs(np.random.randn(rank, shape[1]))\n",
    "W =  np.abs(np.random.randn(shape[0], rank))\n",
    "learning_rate=0.01\n",
    "for i in range(5000):\n",
    "    if i%100==0:\n",
    "        print \"*\"*20\n",
    "        print i\n",
    "        print \"*\"*20\n",
    "        print cost(W, H)\n",
    "    del_W, del_H = grad_cost(W, H)\n",
    "    W =  W-del_W*learning_rate\n",
    "    H =  H-del_H*learning_rate\n",
    "    W[W<0] = 0\n",
    "    H[H<0] = 0\n",
    "    #print cost(W, H)"
   ]
  },
  {
   "cell_type": "code",
   "execution_count": 75,
   "metadata": {
    "collapsed": false
   },
   "outputs": [
    {
     "data": {
      "text/html": [
       "<div>\n",
       "<table border=\"1\" class=\"dataframe\">\n",
       "  <thead>\n",
       "    <tr style=\"text-align: right;\">\n",
       "      <th></th>\n",
       "      <th>0</th>\n",
       "    </tr>\n",
       "  </thead>\n",
       "  <tbody>\n",
       "    <tr>\n",
       "      <th>0</th>\n",
       "      <td>2.286622</td>\n",
       "    </tr>\n",
       "    <tr>\n",
       "      <th>1</th>\n",
       "      <td>2.277868</td>\n",
       "    </tr>\n",
       "    <tr>\n",
       "      <th>2</th>\n",
       "      <td>1.940536</td>\n",
       "    </tr>\n",
       "    <tr>\n",
       "      <th>3</th>\n",
       "      <td>1.329826</td>\n",
       "    </tr>\n",
       "  </tbody>\n",
       "</table>\n",
       "</div>"
      ],
      "text/plain": [
       "          0\n",
       "0  2.286622\n",
       "1  2.277868\n",
       "2  1.940536\n",
       "3  1.329826"
      ]
     },
     "execution_count": 75,
     "metadata": {},
     "output_type": "execute_result"
    }
   ],
   "source": [
    "pd.DataFrame(W)"
   ]
  },
  {
   "cell_type": "code",
   "execution_count": 76,
   "metadata": {
    "collapsed": false
   },
   "outputs": [
    {
     "data": {
      "text/html": [
       "<div>\n",
       "<table border=\"1\" class=\"dataframe\">\n",
       "  <thead>\n",
       "    <tr style=\"text-align: right;\">\n",
       "      <th></th>\n",
       "      <th>0</th>\n",
       "      <th>1</th>\n",
       "      <th>2</th>\n",
       "    </tr>\n",
       "  </thead>\n",
       "  <tbody>\n",
       "    <tr>\n",
       "      <th>0</th>\n",
       "      <td>1.76929</td>\n",
       "      <td>1.762456</td>\n",
       "      <td>2.169969</td>\n",
       "    </tr>\n",
       "  </tbody>\n",
       "</table>\n",
       "</div>"
      ],
      "text/plain": [
       "         0         1         2\n",
       "0  1.76929  1.762456  2.169969"
      ]
     },
     "execution_count": 76,
     "metadata": {},
     "output_type": "execute_result"
    }
   ],
   "source": [
    "pd.DataFrame(H)"
   ]
  },
  {
   "cell_type": "code",
   "execution_count": 77,
   "metadata": {
    "collapsed": false
   },
   "outputs": [
    {
     "data": {
      "text/plain": [
       "array([[ 4.04569723,  4.03007206,  4.96189839],\n",
       "       [ 4.03020798,  4.01464263,  4.94290139],\n",
       "       [ 3.43337074,  3.42011048,  4.21090254],\n",
       "       [ 2.35284735,  2.34376026,  2.88568047]])"
      ]
     },
     "execution_count": 77,
     "metadata": {},
     "output_type": "execute_result"
    }
   ],
   "source": [
    "pred = np.dot(W, H)\n",
    "pred"
   ]
  },
  {
   "cell_type": "code",
   "execution_count": 78,
   "metadata": {
    "collapsed": false
   },
   "outputs": [
    {
     "data": {
      "text/plain": [
       "array([[ nan,   4.,   5.],\n",
       "       [  4.,   4.,   5.],\n",
       "       [  5.,   3.,   4.],\n",
       "       [  2.,   3.,   3.]], dtype=float32)"
      ]
     },
     "execution_count": 78,
     "metadata": {},
     "output_type": "execute_result"
    }
   ],
   "source": [
    "A"
   ]
  },
  {
   "cell_type": "code",
   "execution_count": null,
   "metadata": {
    "collapsed": true
   },
   "outputs": [],
   "source": []
  }
 ],
 "metadata": {
  "kernelspec": {
   "display_name": "Python 2",
   "language": "python",
   "name": "python2"
  },
  "language_info": {
   "codemirror_mode": {
    "name": "ipython",
    "version": 2
   },
   "file_extension": ".py",
   "mimetype": "text/x-python",
   "name": "python",
   "nbconvert_exporter": "python",
   "pygments_lexer": "ipython2",
   "version": "2.7.11"
  }
 },
 "nbformat": 4,
 "nbformat_minor": 0
}
