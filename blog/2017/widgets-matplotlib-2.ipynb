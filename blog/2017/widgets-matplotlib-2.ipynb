{
 "cells": [
  {
   "cell_type": "markdown",
   "metadata": {},
   "source": [
    "# Data exploration using widgets in Matplotlib-II"
   ]
  },
  {
   "cell_type": "markdown",
   "metadata": {},
   "source": [
    "In my [previous post](../widgets-matplotlib.html), I had discussed data exploration using Matplotlib widgets. In this post, I will take that example as a base and build more advanced widget controls."
   ]
  },
  {
   "cell_type": "markdown",
   "metadata": {},
   "source": [
    "### Setting the backend to TK. \n",
    "\n",
    "For some reasons, it works better than the default OSX one."
   ]
  },
  {
   "cell_type": "code",
   "execution_count": 1,
   "metadata": {
    "collapsed": true
   },
   "outputs": [],
   "source": [
    "%matplotlib tk"
   ]
  },
  {
   "cell_type": "markdown",
   "metadata": {},
   "source": [
    "### Customary imports"
   ]
  },
  {
   "cell_type": "code",
   "execution_count": 2,
   "metadata": {
    "collapsed": true
   },
   "outputs": [],
   "source": [
    "import matplotlib.pyplot as plt\n",
    "import numpy as np\n",
    "import pandas as pd\n",
    "import sys"
   ]
  },
  {
   "cell_type": "markdown",
   "metadata": {},
   "source": [
    "### Creating the data"
   ]
  },
  {
   "cell_type": "markdown",
   "metadata": {},
   "source": [
    "Imagine we have energy data from 15 homes, each having data for fridge and microwave, for 365 days, one reading per day."
   ]
  },
  {
   "cell_type": "code",
   "execution_count": 3,
   "metadata": {},
   "outputs": [],
   "source": [
    "# Fixing the seed for reproducibility\n",
    "np.random.seed(0)\n",
    "\n",
    "with pd.HDFStore('temp-store.h5', mode='w') as st:\n",
    "\n",
    "    # 15 home-> 2 columns, 365 rows (daily one reading)\n",
    "    for home in range(15):\n",
    "        df = pd.DataFrame(np.random.randn(365, 2), columns=['fridge','microwave'],\n",
    "                          index=pd.DatetimeIndex(start='2017',freq='D', periods=365))\n",
    "        df = df.abs()\n",
    "        st['/home_%d' %home] = df"
   ]
  },
  {
   "cell_type": "code",
   "execution_count": 4,
   "metadata": {},
   "outputs": [],
   "source": [
    "st = pd.HDFStore('temp-store.h5', mode='r')"
   ]
  },
  {
   "cell_type": "code",
   "execution_count": 5,
   "metadata": {},
   "outputs": [
    {
     "data": {
      "text/plain": [
       "<matplotlib.axes._subplots.AxesSubplot at 0x10d836990>"
      ]
     },
     "execution_count": 5,
     "metadata": {},
     "output_type": "execute_result"
    }
   ],
   "source": [
    "fig, ax  = plt.subplots()\n",
    "st['/home_2'].plot(ax=ax)"
   ]
  },
  {
   "cell_type": "markdown",
   "metadata": {},
   "source": [
    "Notice, that since I used `%matplotlib TK` backend, I don't  see the plot embedded in the notebook. Thus I'll save the current figure as an image and then link it here."
   ]
  },
  {
   "cell_type": "code",
   "execution_count": 6,
   "metadata": {
    "collapsed": true
   },
   "outputs": [],
   "source": [
    "plt.savefig(\"post2-all.png\")"
   ]
  },
  {
   "cell_type": "code",
   "execution_count": null,
   "metadata": {
    "collapsed": true
   },
   "outputs": [],
   "source": []
  },
  {
   "cell_type": "markdown",
   "metadata": {},
   "source": [
    "![](post2-all.png)"
   ]
  },
  {
   "cell_type": "markdown",
   "metadata": {},
   "source": [
    "This sure does not look pretty. "
   ]
  },
  {
   "cell_type": "markdown",
   "metadata": {},
   "source": [
    "### Proposed solution"
   ]
  },
  {
   "cell_type": "markdown",
   "metadata": {},
   "source": [
    "![](mpl-widget.gif)"
   ]
  },
  {
   "cell_type": "markdown",
   "metadata": {},
   "source": [
    "Great. It seems to do the intended job. Let us now look at the individual pieces and how we can tie them up."
   ]
  },
  {
   "cell_type": "markdown",
   "metadata": {},
   "source": [
    "### Creating the initial frame\n",
    "\n",
    "In the first frame we would like to plot the data for the first sample.\n",
    "```python\n",
    "fig, ax = plt.subplots()\n",
    "df[0].plot(ax=ax, title=\"Sample number: 0\")\n",
    "```"
   ]
  },
  {
   "cell_type": "markdown",
   "metadata": {},
   "source": [
    "### Creating the buttons at the bottom\n",
    "\n",
    "First, we'd want to make space for the button at the bottom and place them there. We can do this as follows:\n",
    "\n",
    "```python\n",
    "from matplotlib.widgets import Button\n",
    "\n",
    "fig.subplots_adjust(bottom=0.2)\n",
    "\n",
    "axprev = plt.axes([0.7, 0.05, 0.1, 0.075])\n",
    "axnext = plt.axes([0.81, 0.05, 0.1, 0.075])\n",
    "\n",
    "bnext = Button(axnext, '>')\n",
    "bprev = Button(axprev, '<')\n",
    "```"
   ]
  },
  {
   "cell_type": "markdown",
   "metadata": {},
   "source": [
    "### Linking the buttons to functions\n",
    "\n",
    "We'd next want to call some function each time either of the two buttons are pressed. We would also need a notion of currently selected data point. The idea would be that each time, `>` is pressed, we advance the currently selected point and plot correspondingly.\n",
    "\n",
    "\n",
    "We'd have to define `next() and prev()` where we increment and decrement the selected data point.\n",
    "\n",
    "```python\n",
    "\n",
    "class Index:\n",
    "    data = df\n",
    "    selected = 0\n",
    "    \n",
    "    def next(self, event):\n",
    "        self.selected += 1\n",
    "        ax.cla()\n",
    "        df[self.selected].plot(ax=ax)\n",
    "        ax.set_title(\"Sample number: %d\" %self.selected)\n",
    "\n",
    "    def prev(self, event):\n",
    "        self.selected -= 1\n",
    "        ax.cla()\n",
    "        df[self.selected].plot(ax=ax)\n",
    "        ax.set_title(\"Sample number: %d\" %self.selected)\n",
    "```\n",
    "\n",
    "Here, `ax.cla()` clears the data for the current data point before drawing for the next one. `df[self.selected].plot(ax=ax)` plots for the newly selected data. `ax.set_title(\"Sample number: %d\" %self.selected)` would change the title to reflect the currently used data point.\n",
    "\n",
    "We can link to callback as follows: \n",
    "\n",
    "```python\n",
    "callback = Index()\n",
    "\n",
    "bnext.on_clicked(callback.next)\n",
    "bprev.on_clicked(callback.prev)\n",
    "```\n"
   ]
  },
  {
   "cell_type": "markdown",
   "metadata": {},
   "source": [
    "### Ensuring we do not select home out of range\n",
    "\n",
    "If you notice, we simply incremented and decremented the selected data point without considering going beyond (0, number of data points). So, we need to change the call back functions to check that we do not go beyond the range. This would require the following changes to `next()` with the changes to `prev()` being similar.\n",
    "\n",
    "```python\n",
    "data_min = 0\n",
    "data_max = data.shape[1]-1\n",
    "selected = 0\n",
    "def next(self, event):\n",
    "    if self.selected >=self.data_max:\n",
    "        self.selected = self.data_max\n",
    "        ax.set_title('Last sample reached. Cannot go forwards')\n",
    "    else:\n",
    "        self.selected += 1\n",
    "        ax.cla()\n",
    "        df[self.selected].plot(ax=ax)\n",
    "        ax.set_title(\"Sample number: %d\" %self.selected)\n",
    " ```"
   ]
  },
  {
   "cell_type": "markdown",
   "metadata": {},
   "source": [
    "There you go. This was fairly simple and fun to do, and yet can be very helpful! "
   ]
  },
  {
   "cell_type": "markdown",
   "metadata": {},
   "source": [
    "### Complete code"
   ]
  },
  {
   "cell_type": "code",
   "execution_count": 15,
   "metadata": {},
   "outputs": [
    {
     "data": {
      "text/plain": [
       "0"
      ]
     },
     "execution_count": 15,
     "metadata": {},
     "output_type": "execute_result"
    }
   ],
   "source": [
    "from matplotlib.widgets import Button, CheckButtons\n",
    "\n",
    "fig, ax = plt.subplots()\n",
    "fig.subplots_adjust(bottom=0.2)\n",
    "fig.subplots_adjust(left=0.2)\n",
    "\n",
    "home_0 = st['/home_0']\n",
    "\n",
    "rax = plt.axes([0.02, 0.4, 0.13, 0.2], aspect='equal')\n",
    "\n",
    "labels = tuple(home_0.columns)\n",
    "states = tuple([True]*len(labels))\n",
    "check = CheckButtons(rax, labels, states)\n",
    "\n",
    "\n",
    "st['/home_0'].plot(ax=ax, title=\"Sample number: 0\").legend(loc=2)\n",
    "lines = ax.get_lines()\n",
    "\n",
    "class Index:\n",
    "    store = st\n",
    "    data_min = 0\n",
    "    data_max = len(store.keys())-1\n",
    "    selected = 0\n",
    "    st, la = states, labels\n",
    "    states_dict = dict(zip(la, st))\n",
    "    def selected_column(self, label):\n",
    "        self.states_dict[label] = not self.states_dict[label]\n",
    "        self.plot()\n",
    "    \n",
    "    def plot(self):\n",
    "        ax.cla()\n",
    "        st['/home_%d' %self.selected].plot(ax=ax, title=\"Sample number: %d\" %self.selected).legend(loc=2)\n",
    "        lines = ax.get_lines()\n",
    "        for i ,(l, s) in enumerate(self.states_dict.items()):\n",
    "            lines[i].set_visible(s)\n",
    "        plt.legend(loc=1)\n",
    "        \n",
    "        \n",
    "    def next(self, event):\n",
    "        if self.selected >=self.data_max:\n",
    "            self.selected = self.data_max\n",
    "            ax.set_title('Last sample reached. Cannot go forwards')\n",
    "        else:\n",
    "            self.selected += 1\n",
    "            self.plot()\n",
    "            \n",
    "\n",
    "    def prev(self, event):\n",
    "        if self.selected <=self.data_min:\n",
    "            self.selected = 0\n",
    "            ax.set_title('First sample reached. Cannot go backwards')\n",
    "        else:\n",
    "            self.selected -= 1\n",
    "            self.plot()\n",
    "        \n",
    "\n",
    "callback = Index()\n",
    "axprev = plt.axes([0.7, 0.05, 0.1, 0.075])\n",
    "axnext = plt.axes([0.81, 0.05, 0.1, 0.075])\n",
    "\n",
    "bnext = Button(axnext, '>')\n",
    "bnext.on_clicked(callback.next)\n",
    "\n",
    "bprev = Button(axprev, '<')\n",
    "bprev.on_clicked(callback.prev)\n",
    "\n",
    "check.on_clicked(callback.selected_column)"
   ]
  },
  {
   "cell_type": "code",
   "execution_count": 35,
   "metadata": {},
   "outputs": [
    {
     "data": {
      "text/plain": [
       "<matplotlib.axes._axes.Axes at 0x10e02ff50>"
      ]
     },
     "execution_count": 35,
     "metadata": {},
     "output_type": "execute_result"
    }
   ],
   "source": [
    "check.ax\n"
   ]
  },
  {
   "cell_type": "code",
   "execution_count": 26,
   "metadata": {},
   "outputs": [],
   "source": [
    "l = ax.get_lines()[0]"
   ]
  },
  {
   "cell_type": "code",
   "execution_count": null,
   "metadata": {
    "collapsed": true
   },
   "outputs": [],
   "source": [
    "l."
   ]
  },
  {
   "cell_type": "code",
   "execution_count": 10,
   "metadata": {},
   "outputs": [
    {
     "data": {
      "text/plain": [
       "0"
      ]
     },
     "execution_count": 10,
     "metadata": {},
     "output_type": "execute_result"
    }
   ],
   "source": [
    "from matplotlib.widgets import CheckButtons\n",
    "\n",
    "fig, ax = plt.subplots()\n",
    "fig.subplots_adjust(left=0.2)\n",
    "\n",
    "# plot some hidden curves\n",
    "freqs = np.arange(1, 4)\n",
    "t = np.linspace(0, 2, 1000)\n",
    "s = np.sin(2 * np.pi * freqs[:, None] * t)\n",
    "lines = plt.plot(t, s.T, lw=2, visible=False)\n",
    "ax.set_ylim(-1.5, 1.5)\n",
    "\n",
    "# Build check button axes\n",
    "rax = plt.axes([0.02, 0.4, 0.13, 0.2], aspect='equal')\n",
    "labels = ('2 Hz', '4 Hz', '6 Hz')\n",
    "check = CheckButtons(rax, labels, (False, False, False))\n",
    "\n",
    "def func(label):\n",
    "    i = labels.index(label)\n",
    "    lines[i].set_visible(not lines[i].get_visible())\n",
    "    fig.canvas.draw()\n",
    "\n",
    "check.on_clicked(func)"
   ]
  },
  {
   "cell_type": "code",
   "execution_count": null,
   "metadata": {
    "collapsed": true
   },
   "outputs": [],
   "source": [
    "def __init__(self):\n",
    "        colourax = plt.axes([0.5, 0.4, 0.09, 0.2])\n",
    "        measurementax = plt.axes([0.5, 0.6, 0.09, 0.2])\n",
    "        clabels, cvals = ('Red', 'Green', 'Blue'), (False,)*3\n",
    "        mlabels, mvals = ('1', '2', '3'), (False,)*3\n",
    "        self.cstates = dict(zip(clabels,cvals))\n",
    "        self.mstates = dict(zip(mlabels,mvals))\n",
    "        self.colours = CheckButtons(colourax, clabels, cvals)\n",
    "        self.colours.on_clicked(self.onColor)\n",
    "        self.measurements = CheckButtons(measurementax, mlabels, mvals)\n",
    "        self.measurements.on_clicked(self.onMeasurement)\n"
   ]
  }
 ],
 "metadata": {
  "kernelspec": {
   "display_name": "Python 2",
   "language": "python",
   "name": "python2"
  },
  "language_info": {
   "codemirror_mode": {
    "name": "ipython",
    "version": 2
   },
   "file_extension": ".py",
   "mimetype": "text/x-python",
   "name": "python",
   "nbconvert_exporter": "python",
   "pygments_lexer": "ipython2",
   "version": "2.7.11"
  }
 },
 "nbformat": 4,
 "nbformat_minor": 2
}
